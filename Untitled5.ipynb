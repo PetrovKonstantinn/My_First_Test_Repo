{
  "nbformat": 4,
  "nbformat_minor": 0,
  "metadata": {
    "colab": {
      "provenance": [],
      "authorship_tag": "ABX9TyPPGf8kReedPjinW2i2GwzL"
    },
    "kernelspec": {
      "name": "python3",
      "display_name": "Python 3"
    },
    "language_info": {
      "name": "python"
    }
  },
  "cells": [
    {
      "cell_type": "markdown",
      "source": [
        "# Лабораторная работа 1. Петров Константин\n",
        "## Пример пользования Markdown\n",
        "\n",
        "###**Маркированный список**\n",
        "\n",
        "Список планет Солнечной системы:\n",
        "*   Меркурий\n",
        "*   Венера\n",
        "*   Земля\n",
        "*   Марс\n",
        "*   Юпитер\n",
        "*   Сатурн\n",
        "*   Уран\n",
        "*   Нептун\n",
        "\n",
        "#**Таблица**\n",
        "|ФИО студента|Кол-во пропусков\n",
        "|:-|:----|\n",
        "|Иванов Иван|1|\n",
        "|Сидоров Евгений|6|\n",
        "|Петров Николай|0|\n",
        "\n",
        "\n",
        "#**Рисунок**\n",
        "![Изображение](https://upload.wikimedia.org/wikipedia/commons/thumb/4/48/Markdown-mark.svg/1920px-Markdown-mark.svg.png \"Логотип Markdown\")\n",
        "\n",
        "#**Ссылка**\n",
        "[Основы и синтаксис Markdown](https://skillbox.ru/media/code/yazyk-razmetki-markdown-shpargalka-po-sintaksisu-s-primerami/#stk-19)\n",
        "\n",
        "\n"
      ],
      "metadata": {
        "id": "jlanokhdsvyn"
      }
    }
  ]
}