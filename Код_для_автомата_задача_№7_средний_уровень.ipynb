{
  "nbformat": 4,
  "nbformat_minor": 0,
  "metadata": {
    "colab": {
      "provenance": [],
      "authorship_tag": "ABX9TyPCurNy0bdxJuNcWXgAKPn7"
    },
    "kernelspec": {
      "name": "python3",
      "display_name": "Python 3"
    },
    "language_info": {
      "name": "python"
    }
  },
  "cells": [
    {
      "cell_type": "markdown",
      "source": [
        "Средний вариант. 1 Файлы. Реализовать программу с интерактивным консольным меню, (т.е. вывод списка действий по цифрам. При этом при нажатии на цифру у нас должно выполняться определенное действие). При этом в программе данные пункты должны называться следующим образом: Создать файл с названием и расширением «Egor-1point.csv», в котором программно создать 5 столбцов: ID студента, № группы, ФИО, средний балл успеваемости (от 0 до 5), № зачетной книжки. Внести 15 отдельных студентов с клавиатуры (input) через цикл while или for в данный файл и вывести содержимое файла в виде таблицы через форматированный вывод или библиотеку PrettyTable. Сохранить содержимое файла «Egor-1point.csv» в MySQL и вывести из MySQL на экран в виде таблички (форматированный вывод или PrettyTable)."
      ],
      "metadata": {
        "id": "HWZAa5m-aZkM"
      }
    },
    {
      "cell_type": "code",
      "execution_count": null,
      "metadata": {
        "colab": {
          "base_uri": "https://localhost:8080/"
        },
        "id": "DIG27jcTYxoj",
        "outputId": "5caed2e7-56d3-460f-e5ef-05cf84941784"
      },
      "outputs": [
        {
          "name": "stdout",
          "output_type": "stream",
          "text": [
            "Выберите действие:\n",
            "1 - Создать файл\n",
            "2 - Добавить студентов в файл\n",
            "3 - Показать содержимое файла\n",
            "4 - Сохранить данные из файла в sqllite3\n",
            "5 - Показать данные из sqlite31\n",
            "6 - Выход\n",
            "1\n",
            "Файл успешно создан\n",
            "Выберите действие:\n",
            "1 - Создать файл\n",
            "2 - Добавить студентов в файл\n",
            "3 - Показать содержимое файла\n",
            "4 - Сохранить данные из файла в sqllite3\n",
            "5 - Показать данные из sqlite31\n",
            "6 - Выход\n",
            "2\n",
            "Введите id студента: 6\n"
          ]
        }
      ],
      "source": [
        "import csv\n",
        "import sqlite3\n",
        "path='./sample_data/drive/MyDrive/basa/mybasa.db'\n",
        "from prettytable import PrettyTable\n",
        "\n",
        "def create_file():\n",
        "  with open('egor-1point.csv', 'w', newline='') as file:\n",
        "    writer = csv.writer(file)\n",
        "    writer.writerow(['id студента', '№ группы', 'ФИО', 'средний балл успеваемости', '№ зачетной книжки'])\n",
        "  print('Файл успешно создан')\n",
        "\n",
        "def add_students():\n",
        "  with open('egor-1point.csv', 'a', newline='') as file:\n",
        "    writer = csv.writer(file)\n",
        "    for i in range(3):\n",
        "      id = input('Введите id студента: ')\n",
        "      group = input('Введите № группы: ')\n",
        "      name = input('Введите ФИО: ')\n",
        "      avg_score = input('Введите средний балл успеваемости: ')\n",
        "      record_book = input('Введите № зачетной книжки: ')\n",
        "      writer.writerow([id, group, name, avg_score, record_book])\n",
        "  print('Студенты успешно добавлены в файл')\n",
        "\n",
        "def show_file():\n",
        "  table = PrettyTable()\n",
        "  with open('egor-1point.csv') as file:\n",
        "    reader = csv.reader(file)\n",
        "    for row in reader:\n",
        "      table.add_row(row)\n",
        "  print(table)\n",
        "\n",
        "def save_to_mysql():\n",
        "  mydb =sqlite3.connect(path\n",
        "  )\n",
        "  cursor = mydb.cursor()\n",
        "  cursor.execute(\"CREATE TABLE if not exists students (id INT AUTO_INCREMENT PRIMARY KEY, student_id VARCHAR(255), group_number VARCHAR(255), name VARCHAR(255), avg_score FLOAT, record_book VARCHAR(255))\")\n",
        "  with open('egor-1point.csv') as file:\n",
        "    reader = csv.reader(file)\n",
        "    next(reader) # пропускаем заголовки\n",
        "    for row in reader:\n",
        "      sql = \"INSERT INTO students (student_id, group_number, name, avg_score, record_book) VALUES (?, ?, ?, ?, ?)\"\n",
        "      val = (row[0], row[1], row[2], float(row[3]), row[4])\n",
        "      cursor.execute(sql, val)\n",
        "    mydb.commit()\n",
        "    print('Данные успешно сохранены в sqlite3')\n",
        "\n",
        "def show_sqlite3():\n",
        "  mydb = sqlite3.connect(path\n",
        "  )\n",
        "  cursor = mydb.cursor()\n",
        "  cursor.execute(\"SELECT * FROM students\")\n",
        "  rows = cursor.fetchall()\n",
        "  table = PrettyTable(['id', 'id студента', '№ группы', 'ФИО', 'средний балл успеваемости', '№ зачетной книжки'])\n",
        "  for row in rows:\n",
        "    table.add_row(row)\n",
        "  print(table)\n",
        "while True:\n",
        "  print('Выберите действие:')\n",
        "  print('1 - Создать файл')\n",
        "  print('2 - Добавить студентов в файл')\n",
        "  print('3 - Показать содержимое файла')\n",
        "  print('4 - Сохранить данные из файла в sqllite3')\n",
        "  print('5 - Показать данные из sqlite31')\n",
        "  print('6 - Выход')\n",
        "  choice = input()\n",
        "  if choice == '1':\n",
        "    create_file()\n",
        "  elif choice == '2':\n",
        "    add_students()\n",
        "  elif choice == '3':\n",
        "    show_file()\n",
        "  elif choice == '4':\n",
        "    save_to_mysql()\n",
        "  elif choice == '5':\n",
        "    show_sqlite3()\n",
        "  elif choice == '6':\n",
        "    break\n",
        "  else:\n",
        "    print('Неверный выбор, попробуйте еще раз')"
      ]
    },
    {
      "cell_type": "code",
      "source": [
        "from google.colab import drive\n",
        "drive.mount(\"./sample_data/drive\")"
      ],
      "metadata": {
        "id": "ZWpYUfBeZ5y_"
      },
      "execution_count": null,
      "outputs": []
    }
  ]
}